{
 "cells": [
  {
   "cell_type": "markdown",
   "metadata": {},
   "source": [
    "# Data collection"
   ]
  },
  {
   "cell_type": "markdown",
   "metadata": {},
   "source": [
    "## Install and import packages"
   ]
  },
  {
   "cell_type": "code",
   "execution_count": 46,
   "metadata": {},
   "outputs": [
    {
     "name": "stdout",
     "output_type": "stream",
     "text": [
      "Defaulting to user installation because normal site-packages is not writeable\n",
      "Requirement already satisfied: praw in /home/ubuntu/.local/lib/python3.10/site-packages (7.8.1)\n",
      "Requirement already satisfied: pandas in /home/ubuntu/.local/lib/python3.10/site-packages (2.2.3)\n",
      "Requirement already satisfied: tqdm in /home/ubuntu/.local/lib/python3.10/site-packages (4.67.0)\n",
      "Requirement already satisfied: matplotlib in /home/ubuntu/.local/lib/python3.10/site-packages (3.9.2)\n",
      "Requirement already satisfied: logging in /home/ubuntu/.local/lib/python3.10/site-packages (0.4.9.6)\n",
      "Requirement already satisfied: python-dotenv in /home/ubuntu/.local/lib/python3.10/site-packages (1.0.1)\n",
      "Requirement already satisfied: prawcore<3,>=2.4 in /home/ubuntu/.local/lib/python3.10/site-packages (from praw) (2.4.0)\n",
      "Requirement already satisfied: websocket-client>=0.54.0 in /home/ubuntu/.local/lib/python3.10/site-packages (from praw) (1.8.0)\n",
      "Requirement already satisfied: update_checker>=0.18 in /home/ubuntu/.local/lib/python3.10/site-packages (from praw) (0.18.0)\n",
      "Requirement already satisfied: python-dateutil>=2.8.2 in /home/ubuntu/.local/lib/python3.10/site-packages (from pandas) (2.9.0.post0)\n",
      "Requirement already satisfied: numpy>=1.22.4 in /home/ubuntu/.local/lib/python3.10/site-packages (from pandas) (1.26.4)\n",
      "Requirement already satisfied: tzdata>=2022.7 in /home/ubuntu/.local/lib/python3.10/site-packages (from pandas) (2024.2)\n",
      "Requirement already satisfied: pytz>=2020.1 in /usr/lib/python3/dist-packages (from pandas) (2022.1)\n",
      "Requirement already satisfied: pillow>=8 in /home/ubuntu/.local/lib/python3.10/site-packages (from matplotlib) (11.0.0)\n",
      "Requirement already satisfied: fonttools>=4.22.0 in /home/ubuntu/.local/lib/python3.10/site-packages (from matplotlib) (4.55.0)\n",
      "Requirement already satisfied: packaging>=20.0 in /home/ubuntu/.local/lib/python3.10/site-packages (from matplotlib) (24.2)\n",
      "Requirement already satisfied: cycler>=0.10 in /home/ubuntu/.local/lib/python3.10/site-packages (from matplotlib) (0.12.1)\n",
      "Requirement already satisfied: pyparsing>=2.3.1 in /usr/lib/python3/dist-packages (from matplotlib) (2.4.7)\n",
      "Requirement already satisfied: kiwisolver>=1.3.1 in /home/ubuntu/.local/lib/python3.10/site-packages (from matplotlib) (1.4.7)\n",
      "Requirement already satisfied: contourpy>=1.0.1 in /home/ubuntu/.local/lib/python3.10/site-packages (from matplotlib) (1.3.1)\n",
      "Requirement already satisfied: requests<3.0,>=2.6.0 in /home/ubuntu/.local/lib/python3.10/site-packages (from prawcore<3,>=2.4->praw) (2.32.3)\n",
      "Requirement already satisfied: six>=1.5 in /usr/lib/python3/dist-packages (from python-dateutil>=2.8.2->pandas) (1.16.0)\n",
      "Requirement already satisfied: charset-normalizer<4,>=2 in /home/ubuntu/.local/lib/python3.10/site-packages (from requests<3.0,>=2.6.0->prawcore<3,>=2.4->praw) (3.4.0)\n",
      "Requirement already satisfied: urllib3<3,>=1.21.1 in /usr/lib/python3/dist-packages (from requests<3.0,>=2.6.0->prawcore<3,>=2.4->praw) (1.26.5)\n",
      "Requirement already satisfied: certifi>=2017.4.17 in /usr/lib/python3/dist-packages (from requests<3.0,>=2.6.0->prawcore<3,>=2.4->praw) (2020.6.20)\n",
      "Requirement already satisfied: idna<4,>=2.5 in /usr/lib/python3/dist-packages (from requests<3.0,>=2.6.0->prawcore<3,>=2.4->praw) (3.3)\n",
      "Note: you may need to restart the kernel to use updated packages.\n"
     ]
    }
   ],
   "source": [
    "# 必要なパッケージをインストール\n",
    "%pip install praw pandas tqdm matplotlib logging python-dotenv \n",
    "\n",
    "# パッケージの読み込み\n",
    "import os\n",
    "import datetime\n",
    "from logging import getLogger\n",
    "import praw\n",
    "import pandas as pd\n",
    "from tqdm import tqdm\n",
    "import matplotlib.pyplot as plt"
   ]
  },
  {
   "cell_type": "markdown",
   "metadata": {},
   "source": [
    "## Parameters"
   ]
  },
  {
   "cell_type": "code",
   "execution_count": 47,
   "metadata": {},
   "outputs": [
    {
     "name": "stdout",
     "output_type": "stream",
     "text": [
      "The dotenv extension is already loaded. To reload it, use:\n",
      "  %reload_ext dotenv\n"
     ]
    }
   ],
   "source": [
    "%load_ext dotenv\n",
    "%dotenv\n",
    "\n",
    "\n",
    "logger = getLogger(__name__)\n",
    "\n",
    "# パラメータの宣言\n",
    "REDDIT_CLIENT_ID=os.getenv('REDDIT_CLIENT_ID')\n",
    "REDDIT_CLIENT_SECRET=os.getenv('REDDIT_CLIENT_SECRET')\n",
    "REDDIT_USER_AGENT=os.getenv('REDDIT_USER_AGENT')\n",
    "SUBREDDITS = ['Palestine', 'Israel', 'IsraelPalestine']  # 対象のサブレディットをリストとして定義\n",
    "# SUBMISSIONS_CSV_FILE_NAME = 'submissions_Palestine_Israel_IsraelPalestine_20241026_173259.csv'  # 対象のサブレディットをリストとして定義\n",
    "SUBMISSIONS_CSV_FILE_NAME = 'unmatched_rows.csv'  # 対象のサブレディットをリストとして定義"
   ]
  },
  {
   "cell_type": "markdown",
   "metadata": {},
   "source": [
    "## Fetch posts"
   ]
  },
  {
   "cell_type": "code",
   "execution_count": 48,
   "metadata": {},
   "outputs": [],
   "source": [
    "# 非同期でコメント取得する関数\n",
    "def fetch_comments(submission_ids, reddit):\n",
    "    comments_data = []\n",
    "\n",
    "    # 進行度を表示するためにtqdmを使用\n",
    "    with tqdm(total=len(submission_ids), desc=\"Fetching comments\") as pbar:\n",
    "        for submission_id in submission_ids:\n",
    "            try:\n",
    "                submission = reddit.submission(id=submission_id)\n",
    "                submission.comments.replace_more(limit=None)  # すべてのコメントを展開\n",
    "\n",
    "                for comment in submission.comments.list():\n",
    "                    comment_info = {\n",
    "                        \"comment_id\": comment.id,\n",
    "                        \"submission_id\": submission_id,\n",
    "                        \"author\": str(comment.author),\n",
    "                        \"body\": comment.body,\n",
    "                        \"created_utc\": comment.created_utc,\n",
    "                        \"score\": comment.score,\n",
    "                        \"permalink\": comment.permalink,\n",
    "                        \"parent_id\": comment.parent_id,\n",
    "                        \"is_submitter\": comment.is_submitter,\n",
    "                        \"subreddit\": comment.subreddit.display_name\n",
    "                    }\n",
    "                    comments_data.append(comment_info)\n",
    "\n",
    "                # 進行度の更新\n",
    "                pbar.update(1)\n",
    "\n",
    "            except Exception as e:\n",
    "                logger.error(f\"Error fetching comments for submission {submission_id}: {e}\")\n",
    "                break\n",
    "    return pd.DataFrame(comments_data)"
   ]
  },
  {
   "cell_type": "markdown",
   "metadata": {},
   "source": [
    "## Save data to csv"
   ]
  },
  {
   "cell_type": "code",
   "execution_count": 49,
   "metadata": {},
   "outputs": [],
   "source": [
    "def save_to_csv(df):\n",
    "    # 現在の日付を取得\n",
    "    date_str = datetime.datetime.now().strftime('%Y%m%d_%H%M%S')\n",
    "    # サブレディット名を結合し、ファイル名を生成\n",
    "    subreddit_str = '_'.join(SUBREDDITS)\n",
    "    filename = f'comments_{subreddit_str}_{date_str}.csv'\n",
    "    df.to_csv(filename, index=False)\n",
    "    logger.info(f'Data saved to {filename}')\n"
   ]
  },
  {
   "cell_type": "markdown",
   "metadata": {},
   "source": [
    "## Main"
   ]
  },
  {
   "cell_type": "code",
   "execution_count": 50,
   "metadata": {
    "scrolled": true
   },
   "outputs": [
    {
     "name": "stderr",
     "output_type": "stream",
     "text": [
      "Fetching comments: 100%|██████████████████████████████████████████████████████████████| 851/851 [05:11<00:00,  2.74it/s]\n"
     ]
    }
   ],
   "source": [
    "if __name__ == '__main__':\n",
    "    reddit = praw.Reddit(\n",
    "        client_id=REDDIT_CLIENT_ID,\n",
    "        client_secret=REDDIT_CLIENT_SECRET,\n",
    "        user_agent=REDDIT_USER_AGENT\n",
    "    )\n",
    "    df = pd.read_csv(SUBMISSIONS_CSV_FILE_NAME)\n",
    "    submission_ids = df['id'].tolist()\n",
    "    comments_df = fetch_comments(submission_ids, reddit)\n",
    "    save_to_csv(comments_df)"
   ]
  }
 ],
 "metadata": {
  "kernelspec": {
   "display_name": "Python 3 (ipykernel)",
   "language": "python",
   "name": "python3"
  },
  "language_info": {
   "codemirror_mode": {
    "name": "ipython",
    "version": 3
   },
   "file_extension": ".py",
   "mimetype": "text/x-python",
   "name": "python",
   "nbconvert_exporter": "python",
   "pygments_lexer": "ipython3",
   "version": "3.10.12"
  }
 },
 "nbformat": 4,
 "nbformat_minor": 4
}
